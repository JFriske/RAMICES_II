{
 "cells": [
  {
   "cell_type": "code",
   "execution_count": 2,
   "id": "3d67131c-37f7-4703-b801-48dc4a747411",
   "metadata": {},
   "outputs": [],
   "source": [
    "import numpy as np\n",
    "import matplotlib.pyplot as plt\n",
    "import pandas as pd"
   ]
  },
  {
   "cell_type": "code",
   "execution_count": 3,
   "id": "c1a3417c-1545-4d3b-8502-d475fe25261f",
   "metadata": {},
   "outputs": [
    {
     "name": "stderr",
     "output_type": "stream",
     "text": [
      "/home/jenny/anaconda3/lib/python3.9/site-packages/pandas/util/_decorators.py:311: ParserWarning: Falling back to the 'python' engine because the 'c' engine does not support regex separators (separators > 1 char and different from '\\s+' are interpreted as regex); you can avoid this warning by specifying engine='python'.\n",
      "  return func(*args, **kwargs)\n",
      "/home/jenny/anaconda3/lib/python3.9/site-packages/pandas/io/parsers/readers.py:683: ParserWarning: Length of header or names does not match length of data. This leads to a loss of data with index_col=False.\n",
      "  return _read(filepath_or_buffer, kwds)\n"
     ]
    }
   ],
   "source": [
    "#coldGasMet = pd.read_table('../Output/Test/Enrichment_Absolute_ColdGas.dat',index_col=False , delimiter = ',\\s')\n",
    "\n",
    "#coldGasMass = pd.read_table('../Output/Test/Mass.dat',index_col=False, delimiter = ',\\s')\n",
    "\n",
    "coldGasMetLog = pd.read_table('../Output/NucDiskTest/Enrichment_Log_ColdGas.dat',index_col=False , delimiter = ',\\s')\n",
    "\n",
    "coldGasMetNuc = pd.read_table('../Output/NucDiskTest/Enrichment_Absolute_ColdGas.dat',index_col=False , delimiter = ',\\s')\n",
    "\n",
    "coldGasMassNuc = pd.read_table('../Output/NucDiskTest/Mass.dat',index_col=False, delimiter = ',\\s')"
   ]
  },
  {
   "cell_type": "code",
   "execution_count": 4,
   "id": "b536c03c-fc67-4d47-ab4d-2aa0bcd8080e",
   "metadata": {},
   "outputs": [],
   "source": [
    "#print(coldGasMetNuc)\n",
    "#print(coldGasMassNuc)"
   ]
  },
  {
   "cell_type": "code",
   "execution_count": 7,
   "id": "a75175b6-d4fe-4a0f-9245-be9a87b4bd6c",
   "metadata": {},
   "outputs": [
    {
     "data": {
      "text/plain": [
       "[<matplotlib.lines.Line2D at 0x7f4c1840e130>]"
      ]
     },
     "execution_count": 7,
     "metadata": {},
     "output_type": "execute_result"
    },
    {
     "data": {
      "image/png": "[encoded data removed]",
      "text/plain": [
       "<Figure size 432x288 with 1 Axes>"
      ]
     },
     "metadata": {
      "needs_background": "light"
     },
     "output_type": "display_data"
    }
   ],
   "source": [
    "# coldGasMet0 = coldGasMet[coldGasMet['RingIndex'] == 40]\n",
    "\n",
    "# x = coldGasMet0['Time']\n",
    "# y = coldGasMet0['Total_H']\n",
    "# plt.plot(x,y)\n",
    "\n",
    "#plt.show()\n",
    "\n",
    "#coldGasMass0 = coldGasMass[coldGasMass['Radius'] == 8.1]\n",
    "\n",
    "#print(coldGasMass0)\n",
    "\n",
    "#x = coldGasMass0['Time']\n",
    "#y = coldGasMass0['ColdGasMass']\n",
    "#plt.plot(x,y)\n",
    "\n",
    "\n",
    "\n",
    "coldGasMassNuc0 = coldGasMassNuc[coldGasMassNuc['Radius'] == 0.00375]\n",
    "#coldGasMassNuc0 = coldGasMassNuc[coldGasMassNuc['Radius'] == 0.06375]\n",
    "\n",
    "x = coldGasMassNuc0['Time']\n",
    "y = coldGasMassNuc0['ColdGasMass']\n",
    "plt.plot(x,y)"
   ]
  },
  {
   "cell_type": "code",
   "execution_count": 8,
   "id": "f56af73f-8e64-43db-b015-23cc8d61924b",
   "metadata": {},
   "outputs": [
    {
     "name": "stdout",
     "output_type": "stream",
     "text": [
      "0       2.672700\n",
      "1       2.671910\n",
      "2       2.629750\n",
      "3       1.534510\n",
      "4       1.526850\n",
      "          ...   \n",
      "3995   -0.073484\n",
      "3996   -0.186185\n",
      "3997   -0.328331\n",
      "3998   -0.527786\n",
      "3999   -0.878411\n",
      "Name: Total_Mg, Length: 4000, dtype: float64\n"
     ]
    }
   ],
   "source": [
    "print(coldGasMetLog['Total_Mg'])"
   ]
  },
  {
   "cell_type": "code",
   "execution_count": 9,
   "id": "c0b6888b-fbec-42d0-9c3c-a5d5bba4d5a2",
   "metadata": {},
   "outputs": [
    {
     "name": "stdout",
     "output_type": "stream",
     "text": [
      "0               -\n",
      "10       -1.29888\n",
      "20      -0.879282\n",
      "30      -0.662467\n",
      "40      -0.509163\n",
      "          ...    \n",
      "3950    0.0525891\n",
      "3960    0.0518424\n",
      "3970    0.0517562\n",
      "3980    0.0520981\n",
      "3990    0.0518038\n",
      "Name: Total_Fe, Length: 400, dtype: object\n"
     ]
    },
    {
     "data": {
      "text/plain": [
       "[<matplotlib.lines.Line2D at 0x7f4c18096fd0>]"
      ]
     },
     "execution_count": 9,
     "metadata": {},
     "output_type": "execute_result"
    },
    {
     "data": {
      "image/png": "[encoded data removed]",
      "text/plain": [
       "<Figure size 432x288 with 1 Axes>"
      ]
     },
     "metadata": {
      "needs_background": "light"
     },
     "output_type": "display_data"
    }
   ],
   "source": [
    "coldGasMetLog0 = coldGasMetLog[coldGasMetLog['RingIndex'] == 0]\n",
    "\n",
    "print(coldGasMetLog0['Total_Fe'])\n",
    "\n",
    "coldGasMetLog10 = coldGasMetLog[coldGasMetLog['RingIndex'] == 10]\n",
    "\n",
    "\n",
    "#x = np.empty(0)\n",
    "#y = coldGasMetLog['Total_Mg'] #- coldGasMetLog0['Total_Fe']\n",
    "\n",
    "#plt.ylim(-0.5,1)\n",
    "#plt.xlim(-2,1)\n",
    "#plt.plot(x,y)\n",
    "\n",
    "x = coldGasMetLog10['Total_Fe']\n",
    "y = coldGasMetLog10['Total_Mg'] - coldGasMetLog10['Total_Fe']\n",
    "\n",
    "plt.ylim(-0.5,1)\n",
    "#plt.xlim(-2,1)\n",
    "plt.plot(x,y)"
   ]
  },
  {
   "cell_type": "code",
   "execution_count": 10,
   "id": "8c770938-8d79-4102-b82c-6abdcb288554",
   "metadata": {},
   "outputs": [
    {
     "data": {
      "text/plain": [
       "[<matplotlib.lines.Line2D at 0x7f4c176fbe20>]"
      ]
     },
     "execution_count": 10,
     "metadata": {},
     "output_type": "execute_result"
    },
    {
     "data": {
      "image/png": "[encoded data removed]",
      "text/plain": [
       "<Figure size 432x288 with 1 Axes>"
      ]
     },
     "metadata": {
      "needs_background": "light"
     },
     "output_type": "display_data"
    }
   ],
   "source": [
    "\n",
    "x = np.arange(0.0,12.0,0.03)\n",
    "\n",
    "y = np.empty(0);\n",
    "\n",
    "\n",
    "t0 = 3.5\n",
    "tg= 1.5\n",
    "tf = 12.0\n",
    "R0 = 1\n",
    "Rf = 2\n",
    "\n",
    "for t in x:\n",
    "    \n",
    "    if t < 3.5:\n",
    "        y = np.append(y, R0 )\n",
    "    else:\n",
    "        N = 1.0/(np.arctan((tf - (t0 + 3.5) )/tg) - np.arctan(-(t0 ) /tg))\n",
    "\n",
    "        y = np.append(y, R0 + N*(Rf - R0) * (np.arctan( (t - (t0 +3.5) )/tg) - np.arctan(-(t0 )/tg)))\n",
    "    \n",
    "    \n",
    "plt.plot(x,y)\n"
   ]
  },
  {
   "cell_type": "code",
   "execution_count": 11,
   "id": "fbbd1bae-a6e4-4f40-8416-bc3483430bdc",
   "metadata": {},
   "outputs": [
    {
     "name": "stderr",
     "output_type": "stream",
     "text": [
      "/home/jenny/anaconda3/lib/python3.9/site-packages/pandas/util/_decorators.py:311: ParserWarning: Falling back to the 'python' engine because the 'c' engine does not support regex separators (separators > 1 char and different from '\\s+' are interpreted as regex); you can avoid this warning by specifying engine='python'.\n",
      "  return func(*args, **kwargs)\n",
      "/home/jenny/anaconda3/lib/python3.9/site-packages/pandas/io/parsers/readers.py:683: ParserWarning: Length of header or names does not match length of data. This leads to a loss of data with index_col=False.\n",
      "  return _read(filepath_or_buffer, kwds)\n"
     ]
    }
   ],
   "source": [
    "coldGasMet = pd.read_table('../Output/Test/Enrichment_Absolute_ColdGas.dat',index_col=False , delimiter = ',\\s')\n",
    "\n",
    "coldGasMass = pd.read_table('../Output/Test/Mass.dat',index_col=False, delimiter = ',\\s')"
   ]
  },
  {
   "cell_type": "code",
   "execution_count": null,
   "id": "318da059-3f79-4665-a61f-10d4e656b4a2",
   "metadata": {},
   "outputs": [],
   "source": [
    "xx = coldGasMet[(coldGasMet['RingIndex'] == 0) * (coldGasMet['Time'] ]\n",
    "\n",
    "print(xx['Total_H'] )"
   ]
  },
  {
   "cell_type": "code",
   "execution_count": null,
   "id": "f92b992f-9e54-4c75-942d-b32715c0f7d3",
   "metadata": {},
   "outputs": [],
   "source": []
  }
 ],
 "metadata": {
  "kernelspec": {
   "display_name": "Python 3 (ipykernel)",
   "language": "python",
   "name": "python3"
  },
  "language_info": {
   "codemirror_mode": {
    "name": "ipython",
    "version": 3
   },
   "file_extension": ".py",
   "mimetype": "text/x-python",
   "name": "python",
   "nbconvert_exporter": "python",
   "pygments_lexer": "ipython3",
   "version": "3.9.7"
  }
 },
 "nbformat": 4,
 "nbformat_minor": 5
}
