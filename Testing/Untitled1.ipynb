{
 "cells": [
  {
   "cell_type": "code",
   "execution_count": 5,
   "id": "a18482b9-f303-4b9e-9a79-c9765a1d0e33",
   "metadata": {},
   "outputs": [],
   "source": [
    "import numpy as np\n",
    "import matplotlib.pyplot as plt\n",
    "from matplotlib.pyplot import figure\n",
    "import matplotlib as mpl\n",
    "import pandas as pd\n",
    "#from cycler import cycler\n",
    "#mpl.rcParams['axes.prop_cycle'] = cycler(color='bgrcmyk')\n"
   ]
  },
  {
   "cell_type": "code",
   "execution_count": 6,
   "id": "12c7b505-439b-4d68-917a-00c93bf7ac3a",
   "metadata": {},
   "outputs": [
    {
     "data": {
      "text/plain": [
       "[<matplotlib.lines.Line2D at 0x7f3838db93d0>]"
      ]
     },
     "execution_count": 6,
     "metadata": {},
     "output_type": "execute_result"
    },
    {
     "data": {
      "image/png": "[encoded data removed]",
      "text/plain": [
       "<Figure size 432x288 with 1 Axes>"
      ]
     },
     "metadata": {
      "needs_background": "light"
     },
     "output_type": "display_data"
    }
   ],
   "source": [
    "\n",
    "x = np.arange(0.0,12.0,0.03)\n",
    "\n",
    "#plt.vlines(3.5, -0,1)\n",
    "#plt.vlines(4.0, -0,1)\n",
    "\n",
    "y = np.empty(0);\n",
    "\n",
    "\n",
    "t0 = 3.5\n",
    "tg= 1.5\n",
    "tf = 12.0\n",
    "R0 = 0\n",
    "Rf = 2\n",
    "\n",
    "for t in x:\n",
    "    \n",
    "    if t < 3.5:\n",
    "        y = np.append(y, R0 )\n",
    "    else:\n",
    "        N = 1.0/(np.arctan((tf - (t0 + 3.5) )/tg) - np.arctan(-(t0 ) /tg))\n",
    "\n",
    "        y = np.append(y, R0 + N*(Rf - R0) * (np.arctan( (t - (t0 +3.5) )/tg) - np.arctan(-(t0 )/tg)))\n",
    "\n",
    "plt.plot(x,y)\n",
    "        \n",
    "y = np.empty(0);\n",
    "\n",
    "\n",
    "t0 = 3.5\n",
    "tg= 0.5\n",
    "tf = 12.0\n",
    "R0 = 0\n",
    "Rf = 2\n",
    "\n",
    "for t in x:\n",
    "    \n",
    "    if t < 3.5:\n",
    "        y = np.append(y, R0 )\n",
    "    else:\n",
    "        N = 1.0/(np.arctan((tf - (t0 + 3.5) )/tg) - np.arctan(-(t0 ) /tg))\n",
    "\n",
    "        y = np.append(y, R0 + N*(Rf - R0) * (np.arctan( (t - (t0 +3.5) )/tg) - np.arctan(-(t0 )/tg)))\n",
    "    \n",
    "    \n",
    "plt.plot(x,y)"
   ]
  },
  {
   "cell_type": "code",
   "execution_count": 7,
   "id": "6801f008-4849-4e94-915c-1ea1788715f4",
   "metadata": {},
   "outputs": [],
   "source": [
    "def mass_integrand(x):\n",
    "    return -np.exp(-x) * (x + 1)\n",
    "\n",
    "def surfaceDensity(r, w, totalGasMass, scaleLength):\n",
    "\n",
    "        \n",
    "    truncatedFactor = (1 - (1 + galaxyRadius / scaleLength) * np.exp(-galaxyRadius / scaleLength))\n",
    "    prefactor = totalGasMass / (2 * np.pi * r * w) / truncatedFactor\n",
    "    upRadius = (r + w / 2) / scaleLength\n",
    "    downRadius = (r - w / 2) / scaleLength\n",
    "    \n",
    "    \n",
    "    return prefactor * (mass_integrand(upRadius) - mass_integrand(downRadius))\n",
    "\n",
    "def ringSurfaceDensity(r, w, totalGasMass, scaleLength):\n",
    "    prefactor = 1.0  /(2 * np.pi * r * w)\n",
    "    \n",
    "    normExpFactor = (1 - (1 + galaxyRadius / scaleLength) * np.exp(-galaxyRadius / scaleLength))\n",
    "    upRadius = (r + w / 2) / scaleLength\n",
    "    downRadius = (r - w / 2) / scaleLength\n",
    "    tot = (mass_integrand(upRadius) - mass_integrand(downRadius)) \n",
    "    \n",
    "    add1 = r > 2*scaleLength - 0.005 \n",
    "    add2 = r < 2*scaleLength + 0.005 \n",
    "    add = add1&add2\n",
    "    \n",
    "    \n",
    "    ringstrength = nuclearRingStrength/(1.0-nuclearRingStrength) * ( normExpFactor /(4 * np.pi *  scaleLength * 0.01))\n",
    "    \n",
    "    normFactor = normExpFactor + ringstrength *4 * np.pi *scaleLength*0.01 \n",
    "    \n",
    "    tot*= prefactor\n",
    "    \n",
    "    tot[add] += ringstrength\n",
    "    \n",
    "    tot *= totalGasMass/normFactor\n",
    "    \n",
    "    return tot\n",
    "\n",
    "def newSurfaceDensity(r, w, totalGasMass, scaleLength):\n",
    "    prefactor = 1.0  /(2 * np.pi * r * w)\n",
    "    \n",
    "    edge = 2*scalelength + nuclearRingWidth*0.5\n",
    "    \n",
    "    \n",
    "    upRadius = (r + w / 2) / scaleLength\n",
    "    downRadius = (r - w / 2) / scaleLength\n",
    "    tot = (mass_integrand(upRadius) - mass_integrand(downRadius)) \n",
    "    \n",
    "\n",
    "    \n",
    "    #ringstrength = normExpFactor/0.01*(1/((1/0.2)-2*np.pi*width*scalelength))\n",
    "    \n",
    "    \n",
    "    \n",
    "    #normFactor = normExpFactor + ringstrength *2 * np.pi *width * scalelength*0.01\n",
    "   \n",
    "    \n",
    "    # print('normExpfactor ' +str(normExpFactor))\n",
    "    # print('normfactor ' +str(normFactor))\n",
    "    # print('ringstrenght ' +str(ringstrength))\n",
    "    # print('normring ' + str( ringstrength *2 * np.pi * scaleLength*0.01))\n",
    "    \n",
    "    add3 = r > edge\n",
    "    \n",
    "    tot[add3] *= np.exp((-(r[add3]-(edge)))/0.001)\n",
    "    \n",
    "    # normExpFactorIn = (1 - (1 + edge / scaleLength) * np.exp(-edge / scaleLength))\n",
    "    \n",
    "    normExpFactor = np.sum(tot)\n",
    "    \n",
    "    \n",
    "#     normExpFactorIn = scaleLength*(1 - np.exp(-edge / scaleLength))\n",
    "    \n",
    "#     normExpFactorOut = (delta*scaleLength)/(delta + scaleLength) *np.exp(edge/delta)*(np.exp(-(galaxyRadius*(delta + scaleLength))/(delta*scaleLength)) + np.exp(-(edge*(delta + scaleLength))/(delta*scaleLength)))\n",
    "    \n",
    "    add1 = r > 2*scaleLength - nuclearRingWidth*0.5\n",
    "    add2 = r < 2*scaleLength + nuclearRingWidth*0.5 \n",
    "    add = add1&add2\n",
    "    \n",
    "    ringstrength = nuclearRingStrength/(1.0-nuclearRingStrength) * ( (normExpFactor ) /(4 * np.pi *  scaleLength * 0.01))\n",
    "    \n",
    "    normFactor = normExpFactor *(1+ nuclearRingStrength/(1.0-nuclearRingStrength))\n",
    "\n",
    "    tot*= prefactor\n",
    "    \n",
    "    tot[add] += ringstrength\n",
    "    \n",
    "    tot *= totalGasMass/normFactor\n",
    "    \n",
    "    return tot\n",
    "\n"
   ]
  },
  {
   "cell_type": "code",
   "execution_count": 8,
   "id": "581f93bd-bb4d-4f5c-af54-702763935471",
   "metadata": {},
   "outputs": [
    {
     "name": "stdout",
     "output_type": "stream",
     "text": [
      "2611.309434621515\n",
      "integralnew 1.010375\n",
      "integralold 1.000000000000001\n",
      "integralnew 1.0000094999750002\n",
      "integralnew 0.9999800000000002\n",
      "integralold 0.9999999999976599\n",
      "integralold 1.000000000000008\n"
     ]
    },
    {
     "data": {
      "text/plain": [
       "[<matplotlib.lines.Line2D at 0x7f3838d3bc40>]"
      ]
     },
     "execution_count": 8,
     "metadata": {},
     "output_type": "execute_result"
    },
    {
     "data": {
      "image/png": "[encoded data removed]",
      "text/plain": [
       "<Figure size 432x288 with 1 Axes>"
      ]
     },
     "metadata": {
      "needs_background": "light"
     },
     "output_type": "display_data"
    }
   ],
   "source": [
    "\n",
    "width = 0.0015\n",
    "galaxyRadius = 0.15;\n",
    "\n",
    "totalGasMass = 1\n",
    "scalelength = 0.05\n",
    "nuclearRingStrength = 0.2\n",
    "nuclearRingWidth = 0.01\n",
    "delta = 0.001\n",
    "\n",
    "\n",
    "x = np.arange(width/2, galaxyRadius, width)\n",
    "\n",
    "\n",
    "y = newSurfaceDensity(x, width, totalGasMass, scalelength)\n",
    "\n",
    "print(np.sum(y))\n",
    "\n",
    "\n",
    "\n",
    "plt.plot(x,y)\n",
    "\n",
    "scalelength = 0.07\n",
    "y = newSurfaceDensity(x, width, totalGasMass, scalelength)\n",
    "z = surfaceDensity(x, width, totalGasMass, scalelength)\n",
    "print('integralnew '+ str(np.sum(y*2*np.pi * x *width ) ))\n",
    "print('integralold '+ str(np.sum(z*2*np.pi * x *width ) ))\n",
    "plt.plot(x,y)\n",
    "\n",
    "\n",
    "scalelength = 0.05\n",
    "width = 0.0000015\n",
    "x = np.arange(width/2, galaxyRadius, width)\n",
    "y = newSurfaceDensity(x, width, totalGasMass, scalelength)\n",
    "print('integralnew '+ str(np.sum(y*2*np.pi * x *width )))\n",
    "plt.plot(x,y)\n",
    "\n",
    "\n",
    "scalelength = 0.03\n",
    "width = 0.0000015\n",
    "x = np.arange(width/2, galaxyRadius, width)\n",
    "y = newSurfaceDensity(x, width, totalGasMass, scalelength)\n",
    "print('integralnew '+ str(np.sum(y*2*np.pi * x *width ) ))\n",
    "plt.plot(x,y)\n",
    "\n",
    "y = surfaceDensity(x, width, totalGasMass, scalelength)\n",
    "print('integralold '+ str(np.sum(y*2*np.pi * x *width ) ))\n",
    "plt.plot(x,y)\n",
    "\n",
    "scalelength = 0.05\n",
    "width = 0.0002\n",
    "x = np.arange(width/2, galaxyRadius, width)\n",
    "y = surfaceDensity(x, width, totalGasMass, scalelength)\n",
    "print('integralold '+ str(np.sum(y*2*np.pi * x *width ) ))\n",
    "plt.plot(x,y)"
   ]
  },
  {
   "cell_type": "code",
   "execution_count": 9,
   "id": "e59f1de7-199c-4043-9455-f953d4f65f36",
   "metadata": {},
   "outputs": [
    {
     "name": "stdout",
     "output_type": "stream",
     "text": [
      "[0.00725 0.02225 0.03725 0.05225 0.06725 0.08225 0.09725 0.11225 0.12725\n",
      " 0.14225]\n",
      "123.87506127134417\n",
      "0.8008517265285442\n"
     ]
    },
    {
     "data": {
      "text/plain": [
       "[<matplotlib.lines.Line2D at 0x7f3838d67820>]"
      ]
     },
     "execution_count": 9,
     "metadata": {},
     "output_type": "execute_result"
    },
    {
     "data": {
      "image/png": "[encoded data removed]",
      "text/plain": [
       "<Figure size 432x288 with 1 Axes>"
      ]
     },
     "metadata": {
      "needs_background": "light"
     },
     "output_type": "display_data"
    }
   ],
   "source": [
    "x = np.arange(0.00725, 0.15,0.015)\n",
    "\n",
    "\n",
    "galaxyRadius = 0.15;\n",
    "\n",
    "y = surfaceDensity(x, 0.015, 0.5, 0.05)\n",
    "plt.plot(x,y)\n",
    "\n",
    "print(x)\n",
    "print(np.sum(y) )\n",
    "\n",
    "print((1 - (1 + galaxyRadius / 0.05) * np.exp(-galaxyRadius / 0.05)))\n",
    "#print((np.pi*0.15**2))\n",
    "#print(np.sum(y) *0.015 *(np.pi*0.15**2))\n",
    "\n",
    "\n",
    "y = surfaceDensity(x, 0.015, 0.7, 0.05)\n",
    "plt.plot(x,y)\n",
    "\n",
    "y = surfaceDensity(x, 0.015, 0.5, 0.07)\n",
    "plt.plot(x,y)"
   ]
  }
 ],
 "metadata": {
  "kernelspec": {
   "display_name": "Python 3 (ipykernel)",
   "language": "python",
   "name": "python3"
  },
  "language_info": {
   "codemirror_mode": {
    "name": "ipython",
    "version": 3
   },
   "file_extension": ".py",
   "mimetype": "text/x-python",
   "name": "python",
   "nbconvert_exporter": "python",
   "pygments_lexer": "ipython3",
   "version": "3.9.7"
  }
 },
 "nbformat": 4,
 "nbformat_minor": 5
}
